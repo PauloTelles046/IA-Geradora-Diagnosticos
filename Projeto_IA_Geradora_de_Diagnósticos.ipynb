{
  "nbformat": 4,
  "nbformat_minor": 0,
  "metadata": {
    "colab": {
      "provenance": [],
      "authorship_tag": "ABX9TyPGae6zf0LMTPRPazPFGFSU",
      "include_colab_link": true
    },
    "kernelspec": {
      "name": "python3",
      "display_name": "Python 3"
    },
    "language_info": {
      "name": "python"
    }
  },
  "cells": [
    {
      "cell_type": "markdown",
      "metadata": {
        "id": "view-in-github",
        "colab_type": "text"
      },
      "source": [
        "<a href=\"https://colab.research.google.com/github/PauloTelles046/IA-Geradora-Diagnosticos/blob/main/Projeto_IA_Geradora_de_Diagn%C3%B3sticos.ipynb\" target=\"_parent\"><img src=\"https://colab.research.google.com/assets/colab-badge.svg\" alt=\"Open In Colab\"/></a>"
      ]
    },
    {
      "cell_type": "markdown",
      "source": [
        "**Autor:** Paulo Henrique Telles Ferreira"
      ],
      "metadata": {
        "id": "kcxhAsNLeaGN"
      }
    },
    {
      "cell_type": "markdown",
      "source": [
        "#**Instalação das bibliotecas**\n",
        "\n"
      ],
      "metadata": {
        "id": "c2G5s0_BwCLr"
      }
    },
    {
      "cell_type": "code",
      "execution_count": 124,
      "metadata": {
        "id": "1uM_iZfIjd-Q"
      },
      "outputs": [],
      "source": [
        "#!pip install -q -U google-generativeai"
      ]
    },
    {
      "cell_type": "markdown",
      "source": [
        "# **Importação das bibliotecas**"
      ],
      "metadata": {
        "id": "DSqyLFlNLXjO"
      }
    },
    {
      "cell_type": "code",
      "source": [
        "import json #biblioteca utilizada para manipulação JSON\n",
        "import re #biblioteca utilizada para validação\n",
        "import google.generativeai as genai\n",
        "from google.colab import userdata\n",
        "import textwrap\n",
        "from IPython.display import display\n",
        "from IPython.display import Markdown"
      ],
      "metadata": {
        "id": "ZsbMPei1LR3A"
      },
      "execution_count": 125,
      "outputs": []
    },
    {
      "cell_type": "markdown",
      "source": [
        "# **Configuração do modelo**"
      ],
      "metadata": {
        "id": "tOt0uy6xjsnD"
      }
    },
    {
      "cell_type": "code",
      "source": [
        "\n",
        "api_key=userdata.get(\"SECRET_KEY\")\n",
        "genai.configure(api_key=api_key)\n",
        "\n",
        "# Set up the model\n",
        "generation_config = {\n",
        "  \"temperature\": 0.8,\n",
        "  \"top_p\": 0.95,\n",
        "  \"top_k\": 0,\n",
        "  \"max_output_tokens\": 8192,\n",
        "}\n",
        "\n",
        "safety_settings = [\n",
        "  {\n",
        "    \"category\": \"HARM_CATEGORY_HARASSMENT\",\n",
        "    \"threshold\": \"BLOCK_MEDIUM_AND_ABOVE\"\n",
        "  },\n",
        "  {\n",
        "    \"category\": \"HARM_CATEGORY_HATE_SPEECH\",\n",
        "    \"threshold\": \"BLOCK_MEDIUM_AND_ABOVE\"\n",
        "  },\n",
        "  {\n",
        "    \"category\": \"HARM_CATEGORY_SEXUALLY_EXPLICIT\",\n",
        "    \"threshold\": \"BLOCK_MEDIUM_AND_ABOVE\"\n",
        "  },\n",
        "  {\n",
        "    \"category\": \"HARM_CATEGORY_DANGEROUS_CONTENT\",\n",
        "    \"threshold\": \"BLOCK_MEDIUM_AND_ABOVE\"\n",
        "  },\n",
        "]\n",
        "\n",
        "model = genai.GenerativeModel(model_name=\"gemini-1.0-pro\",\n",
        "                              generation_config=generation_config,\n",
        "                              safety_settings=safety_settings)\n"
      ],
      "metadata": {
        "id": "wWBoNaWvjibB"
      },
      "execution_count": 126,
      "outputs": []
    },
    {
      "cell_type": "markdown",
      "source": [
        "# **Função para geração de diagnósticos**\n",
        "Nesta função, são informados os dados do paciente como sintomas, idade, sexo, altura e peso.\n",
        "Estes dados são enviados para o Gemini em forma de prompt e então o resultado é retornado em formato JSON.\n"
      ],
      "metadata": {
        "id": "SW1XG0gKIBUN"
      }
    },
    {
      "cell_type": "code",
      "source": [
        "#Função para gerar diagnósticos\n",
        "def gerar_diagnostico(sintoma,idade,sexo,altura,peso):\n",
        "    #Se o sexo for informado\n",
        "    if sexo!=\"\":\n",
        "      entrada=f\"input: Tenho {idade} anos, sou do sexo {sexo}, tenho {altura} de altura e peso {peso}. {sintoma}\"\n",
        "    #Se o sexo não for informado\n",
        "    else:\n",
        "      entrada=f\"input: Tenho {idade} anos, tenho {altura} de altura e peso {peso}. {sintoma}\"\n",
        "\n",
        "    prompt_parts = [\n",
        "  \"Classifique sempre se a consulta foi realizada com sucesso ou não no campo \\\"response\\\". Responda com 1 para sim e 0 para não.\",\n",
        "  \"input: Tenho 55 anos, sou do sexo masculino, tenho 1,70m de altura e tenho 80kg sentido uma dor fixa no peito, acho que tenho sentido uma azia, tenho transpirado bastante, tenho tido falta de ar, tenho tido náuseas e ontem desmaiei.\",\n",
        "  \"Resposta [    {        \\\"diagnostic\\\":\\\"Este pode ser o sintoma de um possível infarto. Recomendo procurar um cardiologista\\\",        \\\"exams\\\":[\\\"Ecocardiografia\\\", \\\"MAPA\\\", \\\"Holter\\\"],        \\\"symptoms\\\":[\\\"azia\\\",\\\"transpiração excessiva\\\",\\\"falta de ar\\\",\\\"náusea\\\",\\\"desmaios\\\"],        \\\"response\\\":1    }]\",\n",
        "  \"Clínicas Essas clínicas podem ajudar:\\nClínica cardiologista: https://www.googleadservices.com/pagead/aclk?sa=L&ai=DChcSEwjSkcncjIGGAxUjjsIIHWIrASUYABAAGgJqZg&ase=2&gclid=Cj0KCQjw6PGxBhCVARIsAIumnWaPLpA3mE27KhoAxAJmoWS8rl_dnx-URmzS4et5HRbVU8vesBi6XOwaAjMOEALw_wcB&ohost=www.google.com&cid=CAESVeD2tQqR3e7xmOcK_TRe1vbztXMdh0E5g2x8mu55l4ocZeTnG4ZlHWR5ICiNYCl9JFIpZu_uxqJ9PfFKCKMwNtqfeZfu6uBRCW3ra5_5-avRJP1CFN8&sig=AOD64_0UTEbzGGLoJr5M3euswFKcGMWxEA&q&nis=4&adurl&ved=2ahUKEwjgt77cjIGGAxUsrJUCHRzEDsUQ0Qx6BAgIEAE\\n\\nHospital Cardiológico Constantine: https://hospitalcostantini.com.br/\\n\\nDr Carlos Eduardo Passarini: https://carloseduardopassarini.com.br/?gad_source=1&gclid=Cj0KCQjw6PGxBhCVARIsAIumnWacHy_KWzwRPXhhzJH6RlpBgSX0PnGNpcgulDjDVPQDqiIHVIb9Yi4aAgAcEALw_wcB\\n\\nCateterismo Cardíaco em Nova Iguaçu. Agende uma Consulta | doctoralia.com.br: https://www.doctoralia.com.br/servicos-de-tratamento/cateterismo-cardiaco/nova-iguacu\\n\\nHospital São Mateus: https://hospitalsaomatheus.com.br/\",\n",
        "  \"input: Minha filha tem 5 anos, é do sexo feminino, tem 110,00 cm\\\\n de altura e tem 37,74 kg. Tem sentido febre, dor de garganta, tosse, dor no corpo e muita dor de cabeça\",\n",
        "  \"Resposta [    {        \\\"diagnostic\\\":\\\"Estes são os sintomas de uma gripe. Recomendo procurar um pediatra, dependendo da idade do seu filho, ou um infectologista.\\\",        \\\"exams\\\":[\\\"radiografia de tórax\\\", \\\"exame de sangue\\\", \\\"pesquisa de anticorpos anti-influenza A e B\\\", \\\"PCR\\\", \\\"Pesquisa rápida de antígenos virais.\\\"],        \\\"symptoms\\\":[\\\"febre\\\",\\\"dor de garganta\\\",\\\"tosse\\\",\\\"dor no corpo\\\",\\\"muita dor de cabeça\\\"],        \\\"response\\\":1    }]\",\n",
        "  \"Clínicas Essas clínicas podem ajudar:\\nClínica Médica M.M Saúde: https://www.clinicammsaude.com.br/?utm_source=google&utm_medium=gmn&utm_campaign=&utm_term=botao_website\\n\\nClínica Médica Menino Jesus: https://www.instagram.com/clinicameninojesusrj/\",\n",
        "  \"input: Tenho 30 anos, tenho 1,45m de altura, sou do sexo feminino e peso 70kg. Eu tenho sentido dor no ouvido e muita dor de cabeça\",\n",
        "  \"Resposta [    {        \\\"diagnostic\\\":\\\"Esta pode ser uma inflamação no ouvido ou uma infecção no ouvido. Eu recomendo que você consulte um clínico geral ou otorrinolaringologista\\\",        \\\"exams\\\":[\\\"Otoscopia\\\"],        \\\"symptoms\\\":[\\\"dor de ouvido\\\", \\\"dor de cabeça\\\"],        \\\"response\\\":1    }]\",\n",
        "  \"Clínicas Essas clínicas podem ajudar:\\nOtorrinolaringologia São Paulo: https://www.otorrinosp.com.br/\\n\\nOtorrino DF: http://www.otorrinodf.com.br/\\n\\nOtorrinolaringologista - Dr. Marcus Túlio C. Lessa CRM: https://www.marcustuliolessa.com.br/\",\n",
        "  f\"input:{entrada} \",\n",
        "  \"Resposta \",\n",
        "]\n",
        "\n",
        "    response = model.generate_content(prompt_parts)\n",
        "    return response.text"
      ],
      "metadata": {
        "id": "i164DDfnvAMC"
      },
      "execution_count": 127,
      "outputs": []
    },
    {
      "cell_type": "markdown",
      "source": [
        "# **Função para conversão das clínicas em formato JSON**\n",
        "Esta função foi criada para resolver o problema da lista de clínicas. Estas foram melhor geradas pelo modelo em formato discursivo. Esta função transforma a lista de clínicas sugeridas pelo modelo como resposta ao prompt de geração de diagnóstico em uma lista JSON."
      ],
      "metadata": {
        "id": "Q2G-qRpSI7sc"
      }
    },
    {
      "cell_type": "code",
      "source": [
        "#Função para converter as clínicas sugeridas em formato JSON\n",
        "def converter_clinicas_json(clinicas):\n",
        "    prompt_parts = [\n",
        "    \"Separe cada clínica a seguir no formato {\\\"name\\\":\\\"nome da clínica\\\",\\\"link\\\":\\\"link da clínica\\\"}\",\n",
        "    \"input: Essas clínicas podem ajudar:\\nClínica cardiologista: https://www.googleadservices.com/pagead/aclk?sa=L&ai=DChcSEwjSkcncjIGGAxUjjsIIHWIrASUYABAAGgJqZg&ase=2&gclid=Cj0KCQjw6PGxBhCVARIsAIumnWaPLpA3mE27KhoAxAJmoWS8rl_dnx-URmzS4et5HRbVU8vesBi6XOwaAjMOEALw_wcB&ohost=www.google.com&cid=CAESVeD2tQqR3e7xmOcK_TRe1vbztXMdh0E5g2x8mu55l4ocZeTnG4ZlHWR5ICiNYCl9JFIpZu_uxqJ9PfFKCKMwNtqfeZfu6uBRCW3ra5_5-avRJP1CFN8&sig=AOD64_0UTEbzGGLoJr5M3euswFKcGMWxEA&q&nis=4&adurl&ved=2ahUKEwjgt77cjIGGAxUsrJUCHRzEDsUQ0Qx6BAgIEAE\\n\\nHospital Cardiológico Constantine: https://hospitalcostantini.com.br/\\n\\nDr Carlos Eduardo Passarini: https://carloseduardopassarini.com.br/?gad_source=1&gclid=Cj0KCQjw6PGxBhCVARIsAIumnWacHy_KWzwRPXhhzJH6RlpBgSX0PnGNpcgulDjDVPQDqiIHVIb9Yi4aAgAcEALw_wcB\\n\\nCateterismo Cardíaco em Nova Iguaçu. Agende uma Consulta | doctoralia.com.br: https://www.doctoralia.com.br/servicos-de-tratamento/cateterismo-cardiaco/nova-iguacu\\n\\nHospital São Mateus: https://hospitalsaomatheus.com.br/\",\n",
        "    \"output: \\\"clinics\\\":[\\n            {\\n                \\\"name\\\":\\\"Clínica cardiologista\\\",\\n                \\\"link\\\":\\\" https://www.googleadservices.com/pagead/aclk?sa=L&ai=DChcSEwjSkcncjIGGAxUjjsIIHWIrASUYABAAGgJqZg&ase=2&gclid=Cj0KCQjw6PGxBhCVARIsAIumnWaPLpA3mE27KhoAxAJmoWS8rl_dnx-URmzS4et5HRbVU8vesBi6XOwaAjMOEALw_wcB&ohost=www.google.com&cid=CAESVeD2tQqR3e7xmOcK_TRe1vbztXMdh0E5g2x8mu55l4ocZeTnG4ZlHWR5ICiNYCl9JFIpZu_uxqJ9PfFKCKMwNtqfeZfu6uBRCW3ra5_5-avRJP1CFN8&sig=AOD64_0UTEbzGGLoJr5M3euswFKcGMWxEA&q&nis=4&adurl&ved=2ahUKEwjgt77cjIGGAxUsrJUCHRzEDsUQ0Qx6BAgIEAE\\\"\\n            },\\n            {\\n                \\\"name\\\":\\\"Hospital Cardiológico Constantine\\\",\\n                \\\"link\\\":\\\"https://hospitalcostantini.com.br/\\\"\\n            },\\n            {\\n                \\\"name\\\":\\\"Dr Carlos Eduardo Passarini\\\",\\n                \\\"link\\\":\\\" https://carloseduardopassarini.com.br/?gad_source=1&gclid=Cj0KCQjw6PGxBhCVARIsAIumnWacHy_KWzwRPXhhzJH6RlpBgSX0PnGNpcgulDjDVPQDqiIHVIb9Yi4aAgAcEALw_wcB\\\"\\n            },\\n            {\\n                \\\"name\\\":\\\"Cateterismo Cardíaco em Nova Iguaçu. Agende uma Consulta | doctoralia.com.br\\\",\\n                \\\"link\\\":\\\"https://www.doctoralia.com.br/servicos-de-tratamento/cateterismo-cardiaco/nova-iguacu\\\"\\n            },\\n            {\\n                \\\"name\\\":\\\"Hospital São Mateus\\\",\\n                \\\"link\\\":\\\"https://hospitalsaomatheus.com.br/\\\"\\n            }\\n        ]\",\n",
        "    \"input: Essas clínicas podem ajudar:\\nClínica Médica M.M Saúde: https://www.clinicammsaude.com.br/?utm_source=google&utm_medium=gmn&utm_campaign=&utm_term=botao_website\\n\\nClínica Médica Menino Jesus: https://www.instagram.com/clinicameninojesusrj/\",\n",
        "    \"output: \\\"clinics\\\":[\\n            {\\n                \\\"name\\\":\\\"Clínica Médica M.M Saúde\\\",\\n                \\\"link\\\":\\\"https://www.clinicammsaude.com.br/?utm_source=google&utm_medium=gmn&utm_campaign=&utm_term=botao_website\\\"\\n            },\\n            {\\n                \\\"name\\\":\\\"Clínica Médica Menino Jesus\\\",\\n                \\\"link\\\":\\\"https://www.instagram.com/clinicameninojesusrj/\\\"\\n            }\\n        ]\",\n",
        "    f\"input:{clinicas}\",\n",
        "    \"output: \",\n",
        "    ]\n",
        "    response = model.generate_content(prompt_parts)\n",
        "    txt_resp=response.text\n",
        "\n",
        "    #Limpeza do resultado recebido\n",
        "    txt_resp=txt_resp.replace('```json','').replace('```','').replace('\"clinics\":','')\n",
        "\n",
        "    #Conversão do resultado recebido para formato JSON\n",
        "    clinicas_json=json.loads(txt_resp)\n",
        "    return clinicas_json\n",
        ""
      ],
      "metadata": {
        "id": "TJdjHFy7I6LS"
      },
      "execution_count": 128,
      "outputs": []
    },
    {
      "cell_type": "markdown",
      "source": [
        "# **Função para tradução das respostas do usuário**\n",
        "Esta função foi desenvolvida para que o usuário possa informar ao sistema o seu pedido da sua forma. É enviado um prompt para o Gemini para que classifique o pedido do usuário entre SINTOMA, REALIZAR_DIAGNOSTICO, ENCERRAR ou INVÁLIDO. Desta maneira, o sistema pode executar as funções necessárias dependendo do tipo de pedido do usuário."
      ],
      "metadata": {
        "id": "PAJBNyfsKPiu"
      }
    },
    {
      "cell_type": "code",
      "source": [
        "#Recebe a requisicao e retorna a constante respectiva\n",
        "#Isso faz com que o programa se torne mais conversacional\n",
        "def traduzir_requisicao(requisicao):\n",
        "    prompt_parts = [\n",
        "  \"Classifique as seguintes requisições como SINTOMA, REALIZAR_DIAGOSTICO ou INVÁLIDO se não puder ser classificado como nenhuma das anteriores.\",\n",
        "  \"input: Estou sentindo tosse e dor de cabeça\",\n",
        "  \"output: SINTOMA\",\n",
        "  \"input: Meu ouvido está doendo\",\n",
        "  \"output: SINTOMA\",\n",
        "  \"input: Eu ainda quero te falar alguns sintomas que estou sentindo\",\n",
        "  \"output: REALIZAR_DIAGOSTICO\",\n",
        "  \"input: Como posso te falar como estou me sentindo?\",\n",
        "  \"output: REALIZAR_DIAGOSTICO\",\n",
        "  \"input: \",\n",
        "  \"output: INVÁLIDO\",\n",
        "  \"input: Quero me diagnosticar\",\n",
        "  \"output: REALIZAR_DIAGOSTICO\",\n",
        "  f\"input:{requisicao}\",\n",
        "  \"output: \",\n",
        "]\n",
        "\n",
        "\n",
        "    response = model.generate_content(prompt_parts)\n",
        "\n",
        "    #Retorna o resultado sem espaços\n",
        "    return response.text.replace(\" \",\"\").replace(\"\\n\",\"\")\n"
      ],
      "metadata": {
        "id": "h4V4bRicKJuH"
      },
      "execution_count": 137,
      "outputs": []
    },
    {
      "cell_type": "markdown",
      "source": [
        "# **Função para validação de números inteiros**\n",
        "Função criada para validar strings que apenas devem possuir números inteiros. A função retorna True para valores que estão de acordo com o padrão e False para valores fora do padrão."
      ],
      "metadata": {
        "id": "ehMz8ruaLmyq"
      }
    },
    {
      "cell_type": "code",
      "source": [
        "#Faz a validação de números inteiros\n",
        "def valida_inteiros(valor):\n",
        "    formato=r\"[0-9]\"\n",
        "    result=re.search(formato,valor)\n",
        "    if result!=None:\n",
        "        return True\n",
        "    else:\n",
        "        return False"
      ],
      "metadata": {
        "id": "sbbM-Q5pLjbm"
      },
      "execution_count": 130,
      "outputs": []
    },
    {
      "cell_type": "markdown",
      "source": [
        "# **Função para validação de números decimais**\n",
        "Função criada para validar strings que apenas devem possuir números decimais. A função retorna True para valores que estão de acordo com o padrão e False para valores fora do padrão."
      ],
      "metadata": {
        "id": "xqetQbHBL56F"
      }
    },
    {
      "cell_type": "code",
      "source": [
        "#Faz a validação de números decimais\n",
        "def valida_decimais(valor):\n",
        "    formato1=r\"[0-9][,.]\" #Formato com números decimais\n",
        "    formato2=r\"[0-9]\" #Formato com números inteiros\n",
        "\n",
        "    #Foi utilizado um if para validar os dois formatos. Com isso, foi possível digitar tanto números decimais quanto números inteiros\n",
        "    result=re.search(formato1, valor)\n",
        "    if result!=None:\n",
        "      return True\n",
        "    else:\n",
        "      if re.search(formato2,valor) !=None:\n",
        "        return True\n",
        "      return False"
      ],
      "metadata": {
        "id": "T4IBaruZMGj2"
      },
      "execution_count": 131,
      "outputs": []
    },
    {
      "cell_type": "markdown",
      "source": [
        "# **Função para cadastro de paciente**\n",
        "Foi feito o cadastro dos dados do paciente para que o modelo possa ter uma acurácia melhor. Com dados precisos como idade, sexo, altura e peso, o modelo poderá fazer uma análise melhor do diagnóstico."
      ],
      "metadata": {
        "id": "NXKo3JzGL528"
      }
    },
    {
      "cell_type": "code",
      "source": [
        "def executar_cadastramento():\n",
        "    #Inicialização de variáveis\n",
        "    infos={}\n",
        "    nome=\"\"\n",
        "    genero=\"\"\n",
        "    idade=\"\"\n",
        "    altura=\"\"\n",
        "    peso=\"\"\n",
        "\n",
        "    #Inserção das informações pessoais\n",
        "    display(to_markdown(\"Para começarmos, me diga seu nome:\"))\n",
        "    nome=input(\"\\tEu:\")\n",
        "    display(to_markdown(\"<br>Agora farei algumas perguntas para que possamos iniciar sua consulta:<br>\"))\n",
        "\n",
        "    #Verificação de gênero. Foram implementadas funcionalidades para permitir que o usuário\n",
        "    #informe somente caso se sinta confortável\n",
        "    display(to_markdown(f\"{nome}, poderia me informar seu gênero? (S/N)\"))\n",
        "    resp=input(\"\\tEu:\")\n",
        "    if resp.lower()==\"s\":\n",
        "        genero=\"\"\n",
        "        while True:\n",
        "            #Aceita apenas os valores m ou f\n",
        "            display(to_markdown(\"Gênero:(M/F)\"))\n",
        "            genero=input(\"\\tEu:\")\n",
        "            genero=genero.upper() #A informação recebida é convertida para maiúsculo\n",
        "                                  #para que possam ser digitadas tanto letras maiúsculas quanto minúsculas\n",
        "\n",
        "            #Caso seja detectado um valor válido, este é convertido para um formato de texto que\n",
        "            #será melhor interpretado no prompt\n",
        "            if genero==\"M\":\n",
        "                genero=\"masculino\"\n",
        "                break\n",
        "            elif genero==\"F\":\n",
        "                genero=\"feminino\"\n",
        "                break\n",
        "\n",
        "    elif resp.lower()==\"n\":\n",
        "        pass\n",
        "    else:\n",
        "        pass\n",
        "\n",
        "    #Foi utilizada a estrutura while para que um loop seja criado até que o usuário informe um valor válido\n",
        "\n",
        "    #While para somente aceitar valores válidos para idade\n",
        "    while not valida_inteiros(idade):\n",
        "        display(to_markdown(f\"{nome}, qual a sua idade?\\n\"))\n",
        "        idade=input(\"\\tEu:\")\n",
        "\n",
        "    #While para somente aceitar valores válidos para altura\n",
        "    while not valida_decimais(altura):\n",
        "        display(to_markdown(f\"Qual sua altura? Ex(1.70)\\n\"))\n",
        "        altura=input(\"\\tEu:\")\n",
        "\n",
        "    #While para somente aceitar valores válidos para peso\n",
        "    while not valida_decimais(peso):\n",
        "        display(to_markdown(f\"Qual seu peso? Ex(80)\\n\"))\n",
        "        peso=input(\"\\tEu:\")\n",
        "\n",
        "    #Adiciona a unidade de medida ao peso\n",
        "    if not \"kg\" in peso:\n",
        "        peso+=\"kg\"\n",
        "\n",
        "    #Adiciona as informações ao dicionário\n",
        "    infos[\"nome\"]=nome\n",
        "    infos[\"genero\"]=genero\n",
        "    infos[\"idade\"]=idade\n",
        "    infos[\"altura\"]=altura\n",
        "    infos[\"peso\"]=peso\n",
        "\n",
        "    return infos\n"
      ],
      "metadata": {
        "id": "xGsJ-tnzMzo4"
      },
      "execution_count": 132,
      "outputs": []
    },
    {
      "cell_type": "markdown",
      "source": [
        "# **Função para melhoria do texto**\n",
        "Esta função faz com que o texto possa ser exibido em formato html. Desta forma, ele se torna mais legível."
      ],
      "metadata": {
        "id": "a1DKS4UaS8mA"
      }
    },
    {
      "cell_type": "code",
      "source": [
        "def to_markdown(text):\n",
        "    return Markdown(textwrap.indent(text, '> ', predicate=lambda _: True))"
      ],
      "metadata": {
        "id": "bkSS_P_dS6vT"
      },
      "execution_count": 133,
      "outputs": []
    },
    {
      "cell_type": "markdown",
      "source": [
        "# **Função para realizar e exibir o diagnóstico**\n",
        "Esta função realiza o diagnóstico com base nas informações dadas pelo paciente e realiza o tratamento da resposta para criar uma exibição mais agradável."
      ],
      "metadata": {
        "id": "iXlQtVWtQY4Q"
      }
    },
    {
      "cell_type": "code",
      "source": [
        "def executar_diagnostico(sintomas,idade,genero,altura,peso):\n",
        "    #Diagnóstico é gerado\n",
        "    display(to_markdown(\"<p>Gerando diagnóstico...</p>\"))\n",
        "    resultado= gerar_diagnostico(sintomas,idade,genero,altura,peso)\n",
        "\n",
        "    #Encontra as clínicas na string vinda como resultado\n",
        "    indice=resultado.find(\"Clínicas\")\n",
        "    clinicas=resultado[indice:]\n",
        "    clinicas=converter_clinicas_json(clinicas)\n",
        "\n",
        "    #Remove as clínicas do diagnóstico\n",
        "    resultado=resultado.replace(resultado[indice:],'')\n",
        "\n",
        "    #Converte o resultado da geração de diagnóstico em JSON\n",
        "    resultado_json=json.loads(resultado)[0]\n",
        "\n",
        "    #Exibe o diagnóstico\n",
        "    diagnostico=resultado_json[\"diagnostic\"]\n",
        "    exames=resultado_json[\"exams\"]\n",
        "\n",
        "    display(to_markdown(f\"<br><strong>Diagnóstico:</strong> {diagnostico}\"))\n",
        "\n",
        "    #If para que a grafia possa ser melhorada. Se for mais de um item, será referido como exames.\n",
        "    if len(exames)>1:\n",
        "        display(to_markdown(f\"<br>Os seguintes exames podem ser feitos:\"))\n",
        "    else:\n",
        "        #Se for um item, se referirá como exame\n",
        "        display(to_markdown(f\"<br><strong>Recomendo fazer este exame:</strong>\"))\n",
        "\n",
        "    #Conversão dos exames em itens de uma lista HTML\n",
        "    exams_items=\"\"\n",
        "    for item in exames:\n",
        "        exams_items+=f\"<li>{item}</li>\"\n",
        "\n",
        "    #Os exames convertidos em itens são adicionados em uma lista HTML e exibidos\n",
        "    exams_html=f\"<ul>{exams_items}</ul>\"\n",
        "    display(to_markdown(exams_html))\n",
        "\n",
        "    display(to_markdown(\"<br>As clínicas que podem ser consultadas são:<br>\"))\n",
        "\n",
        "    #Faz a iteração pela lista de clínicas e as exibe em um formato legível\n",
        "    for clinica in clinicas:\n",
        "        name=clinica[\"name\"]\n",
        "        link=clinica[\"link\"]\n",
        "        display(to_markdown(f\"<h3>{name}</h3> Site da clínica: <a>{link}</a><br>\"))\n"
      ],
      "metadata": {
        "id": "wHynhcuaQNxv"
      },
      "execution_count": 134,
      "outputs": []
    },
    {
      "cell_type": "markdown",
      "source": [
        "# **Execução do programa**\n",
        "O programa começa a ser executado. Os dados são pedidos ao usuário e posteriormente é iniciado o atendimento, onde o usuário pode informar seus sintomas e receber seu diagnóstico."
      ],
      "metadata": {
        "id": "zJebxEY4QBb3"
      }
    },
    {
      "cell_type": "code",
      "source": [
        "\n",
        "#Inicialização das variáveis\n",
        "trad_pedido=\"\"\n",
        "infos=None\n",
        "nome=\"\"\n",
        "genero=\"\"\n",
        "idade=\"\"\n",
        "altura=\"\"\n",
        "peso=\"\"\n",
        "\n",
        "#Apresentação\n",
        "display(to_markdown(\"Olá! Sou sua IA Médica Assistente.\"))\n",
        "display(to_markdown(\"Diga o que você está sentindo que irei ajudar! :)\"))\n",
        "\n",
        "infos= executar_cadastramento() #Executa a função de cadastramento\n",
        "\n",
        "#Adiciona as informações recebidas em variáveis\n",
        "nome=infos[\"nome\"]\n",
        "genero=infos[\"genero\"]\n",
        "idade=infos[\"idade\"]\n",
        "altura=infos[\"altura\"]\n",
        "peso=infos[\"peso\"]\n",
        "\n",
        "\n",
        "#Finalização do cadastramento e início do atendimento\n",
        "display(to_markdown(f\"Pronto! Foi tudo.Em que posso te ajudar, {nome}?<br>\"))\n",
        "pedido=input(\"\\tEu:\")\n",
        "display(to_markdown(\"<p>Processando...</p>\"))\n",
        "trad_pedido=traduzir_requisicao(pedido)\n",
        "\n",
        "#Tratamento das opções\n",
        "\n",
        "#Executa diagnóstico se for informado um sintoma\n",
        "if \"SINTOMA\" in trad_pedido:\n",
        "    executar_diagnostico(pedido,idade,genero,altura,peso)\n",
        "\n",
        "#Começa pedindo que informe os sintomas e depois executa o diagnóstico\n",
        "elif \"REALIZAR_DIAGOSTICO\" in trad_pedido:\n",
        "    display(to_markdown(f\"Por favor, me diga o que está sentindo {nome}:<br>\"))\n",
        "    sintomas=input(\"\\tEu:\")\n",
        "    executar_diagnostico(sintomas,idade,genero,altura,peso)\n",
        "\n",
        "#Caso a resposta seja inválida\n",
        "elif \"INVÁLIDO\" in trad_pedido:\n",
        "    display(to_markdown(\"Não entendi seu pedido.\"))\n",
        "    display(to_markdown(\"Encerrando programa...\"))\n",
        "\n",
        "else:\n",
        "    pass\n",
        "\n",
        "display(to_markdown(\"Muito obrigado por me escolher para realizar seu diagnóstico. Até mais!\"))"
      ],
      "metadata": {
        "colab": {
          "base_uri": "https://localhost:8080/",
          "height": 1000
        },
        "id": "C861FXqTvZtx",
        "outputId": "f5628b7a-de8c-4a79-957e-9a62b68c6033"
      },
      "execution_count": 142,
      "outputs": [
        {
          "output_type": "display_data",
          "data": {
            "text/plain": [
              "<IPython.core.display.Markdown object>"
            ],
            "text/markdown": "> Olá! Sou sua IA Médica Assistente."
          },
          "metadata": {}
        },
        {
          "output_type": "display_data",
          "data": {
            "text/plain": [
              "<IPython.core.display.Markdown object>"
            ],
            "text/markdown": "> Diga o que você está sentindo que irei ajudar! :)"
          },
          "metadata": {}
        },
        {
          "output_type": "display_data",
          "data": {
            "text/plain": [
              "<IPython.core.display.Markdown object>"
            ],
            "text/markdown": "> Para começarmos, me diga seu nome:"
          },
          "metadata": {}
        },
        {
          "name": "stdout",
          "output_type": "stream",
          "text": [
            "\tEu:Carlota\n"
          ]
        },
        {
          "output_type": "display_data",
          "data": {
            "text/plain": [
              "<IPython.core.display.Markdown object>"
            ],
            "text/markdown": "> <br>Agora farei algumas perguntas para que possamos iniciar sua consulta:<br>"
          },
          "metadata": {}
        },
        {
          "output_type": "display_data",
          "data": {
            "text/plain": [
              "<IPython.core.display.Markdown object>"
            ],
            "text/markdown": "> Carlota, poderia me informar seu gênero? (S/N)"
          },
          "metadata": {}
        },
        {
          "name": "stdout",
          "output_type": "stream",
          "text": [
            "\tEu:s\n"
          ]
        },
        {
          "output_type": "display_data",
          "data": {
            "text/plain": [
              "<IPython.core.display.Markdown object>"
            ],
            "text/markdown": "> Gênero:(M/F)"
          },
          "metadata": {}
        },
        {
          "name": "stdout",
          "output_type": "stream",
          "text": [
            "\tEu:f\n"
          ]
        },
        {
          "output_type": "display_data",
          "data": {
            "text/plain": [
              "<IPython.core.display.Markdown object>"
            ],
            "text/markdown": "> Carlota, qual a sua idade?\n"
          },
          "metadata": {}
        },
        {
          "name": "stdout",
          "output_type": "stream",
          "text": [
            "\tEu:20\n"
          ]
        },
        {
          "output_type": "display_data",
          "data": {
            "text/plain": [
              "<IPython.core.display.Markdown object>"
            ],
            "text/markdown": "> Qual sua altura? Ex(1.70)\n"
          },
          "metadata": {}
        },
        {
          "name": "stdout",
          "output_type": "stream",
          "text": [
            "\tEu:1,64\n"
          ]
        },
        {
          "output_type": "display_data",
          "data": {
            "text/plain": [
              "<IPython.core.display.Markdown object>"
            ],
            "text/markdown": "> Qual seu peso? Ex(80)\n"
          },
          "metadata": {}
        },
        {
          "name": "stdout",
          "output_type": "stream",
          "text": [
            "\tEu:50\n"
          ]
        },
        {
          "output_type": "display_data",
          "data": {
            "text/plain": [
              "<IPython.core.display.Markdown object>"
            ],
            "text/markdown": "> Pronto! Foi tudo.Em que posso te ajudar, Carlota?<br>"
          },
          "metadata": {}
        },
        {
          "name": "stdout",
          "output_type": "stream",
          "text": [
            "\tEu:Eu gostaria de me consultar\n"
          ]
        },
        {
          "output_type": "display_data",
          "data": {
            "text/plain": [
              "<IPython.core.display.Markdown object>"
            ],
            "text/markdown": "> <p>Processando...</p>"
          },
          "metadata": {}
        },
        {
          "output_type": "display_data",
          "data": {
            "text/plain": [
              "<IPython.core.display.Markdown object>"
            ],
            "text/markdown": "> Por favor, me diga o que está sentindo Carlota:<br>"
          },
          "metadata": {}
        },
        {
          "name": "stdout",
          "output_type": "stream",
          "text": [
            "\tEu:Eu estou sentindo dor de cabeça\n"
          ]
        },
        {
          "output_type": "display_data",
          "data": {
            "text/plain": [
              "<IPython.core.display.Markdown object>"
            ],
            "text/markdown": "> <p>Gerando diagnóstico...</p>"
          },
          "metadata": {}
        },
        {
          "output_type": "display_data",
          "data": {
            "text/plain": [
              "<IPython.core.display.Markdown object>"
            ],
            "text/markdown": "> <br><strong>Diagnóstico:</strong> Esta pode ser uma enxaqueca ou uma cefaleia tensional. Eu recomendo que você consulte um neurologista"
          },
          "metadata": {}
        },
        {
          "output_type": "display_data",
          "data": {
            "text/plain": [
              "<IPython.core.display.Markdown object>"
            ],
            "text/markdown": "> <br>Os seguintes exames podem ser feitos:"
          },
          "metadata": {}
        },
        {
          "output_type": "display_data",
          "data": {
            "text/plain": [
              "<IPython.core.display.Markdown object>"
            ],
            "text/markdown": "> <ul><li>exame físico</li><li>tomografia computadorizada</li><li>ressonância magnética</li></ul>"
          },
          "metadata": {}
        },
        {
          "output_type": "display_data",
          "data": {
            "text/plain": [
              "<IPython.core.display.Markdown object>"
            ],
            "text/markdown": "> <br>As clínicas que podem ser consultadas são:<br>"
          },
          "metadata": {}
        },
        {
          "output_type": "display_data",
          "data": {
            "text/plain": [
              "<IPython.core.display.Markdown object>"
            ],
            "text/markdown": "> <h3>Neurologia Especializada</h3> Site da clínica: <a>https://neurologiaespecializada.com.br/?utm_source=google&utm_medium=gmn&utm_campaign=&utm_term=botao_website</a><br>"
          },
          "metadata": {}
        },
        {
          "output_type": "display_data",
          "data": {
            "text/plain": [
              "<IPython.core.display.Markdown object>"
            ],
            "text/markdown": "> <h3>Clínica de Neurologia do Dr. Leandro Teles</h3> Site da clínica: <a>https://clinicaneurologiadrleandro.com.br/</a><br>"
          },
          "metadata": {}
        },
        {
          "output_type": "display_data",
          "data": {
            "text/plain": [
              "<IPython.core.display.Markdown object>"
            ],
            "text/markdown": "> Muito obrigado por me escolher para realizar seu diagnóstico. Até mais!"
          },
          "metadata": {}
        }
      ]
    }
  ]
}